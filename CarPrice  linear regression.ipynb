{
 "cells": [
  {
   "cell_type": "markdown",
   "id": "1b55109a",
   "metadata": {},
   "source": [
    "# car price"
   ]
  },
  {
   "cell_type": "code",
   "execution_count": 82,
   "id": "b03d6e16",
   "metadata": {},
   "outputs": [],
   "source": [
    "import pandas as pd                                             # import library pandas \n",
    "import numpy as np                                              # import Library numpy\n",
    "cp=pd.read_csv(r\"C:\\Users\\HP\\Downloads\\car_price.csv\")          # read the file"
   ]
  },
  {
   "cell_type": "markdown",
   "id": "ea40a499",
   "metadata": {},
   "source": [
    "# data preprocessing"
   ]
  },
  {
   "cell_type": "code",
   "execution_count": 83,
   "id": "904edf29",
   "metadata": {},
   "outputs": [
    {
     "data": {
      "text/plain": [
       "symboling            0\n",
       "normalized_losses    0\n",
       "Fuel_type            0\n",
       "make                 0\n",
       "num_of_doors         0\n",
       "aspiration           0\n",
       "wheel_base           0\n",
       "engine_location      0\n",
       "drive_wheels         0\n",
       "body_style           0\n",
       "length               0\n",
       "width                0\n",
       "height               0\n",
       "curb_weight          0\n",
       "engine_type          0\n",
       "num_of_cylinders     0\n",
       "engine_size          0\n",
       "fuel_system          0\n",
       "bore                 0\n",
       "stroke               0\n",
       "compression_ratio    0\n",
       "horsepower           0\n",
       "peak_rpm             0\n",
       "city_mpg             0\n",
       "highway_mpg          0\n",
       "price                0\n",
       "dtype: int64"
      ]
     },
     "execution_count": 83,
     "metadata": {},
     "output_type": "execute_result"
    }
   ],
   "source": [
    "cp.isnull().sum()      # checking null values"
   ]
  },
  {
   "cell_type": "code",
   "execution_count": 84,
   "id": "11a1a14d",
   "metadata": {},
   "outputs": [],
   "source": [
    "cp=cp.replace({'?':np.nan})  # replace '?' as 'nan' from all the existing data"
   ]
  },
  {
   "cell_type": "code",
   "execution_count": 85,
   "id": "498177dc",
   "metadata": {},
   "outputs": [
    {
     "name": "stdout",
     "output_type": "stream",
     "text": [
      "<class 'pandas.core.frame.DataFrame'>\n",
      "RangeIndex: 205 entries, 0 to 204\n",
      "Data columns (total 26 columns):\n",
      " #   Column             Non-Null Count  Dtype  \n",
      "---  ------             --------------  -----  \n",
      " 0   symboling          205 non-null    int64  \n",
      " 1   normalized_losses  164 non-null    object \n",
      " 2   Fuel_type          205 non-null    object \n",
      " 3   make               205 non-null    object \n",
      " 4   num_of_doors       203 non-null    object \n",
      " 5   aspiration         205 non-null    object \n",
      " 6   wheel_base         205 non-null    object \n",
      " 7   engine_location    205 non-null    object \n",
      " 8   drive_wheels       205 non-null    float64\n",
      " 9   body_style         205 non-null    object \n",
      " 10  length             205 non-null    float64\n",
      " 11  width              205 non-null    float64\n",
      " 12  height             205 non-null    float64\n",
      " 13  curb_weight        205 non-null    int64  \n",
      " 14  engine_type        205 non-null    object \n",
      " 15  num_of_cylinders   205 non-null    object \n",
      " 16  engine_size        205 non-null    int64  \n",
      " 17  fuel_system        205 non-null    object \n",
      " 18  bore               201 non-null    object \n",
      " 19  stroke             201 non-null    object \n",
      " 20  compression_ratio  205 non-null    float64\n",
      " 21  horsepower         203 non-null    object \n",
      " 22  peak_rpm           203 non-null    object \n",
      " 23  city_mpg           205 non-null    int64  \n",
      " 24  highway_mpg        205 non-null    int64  \n",
      " 25  price              201 non-null    object \n",
      "dtypes: float64(5), int64(5), object(16)\n",
      "memory usage: 41.8+ KB\n"
     ]
    }
   ],
   "source": [
    "cp.info()"
   ]
  },
  {
   "cell_type": "code",
   "execution_count": 86,
   "id": "0cce41fb",
   "metadata": {},
   "outputs": [],
   "source": [
    "cp.normalized_losses =  cp.normalized_losses.astype('float')\n",
    "cp.bore =  cp.bore.astype('float')\n",
    "cp.stroke =  cp.stroke.astype('float')\n",
    "cp.peak_rpm =  cp.peak_rpm.astype('float')\n",
    "cp.price  = cp.price.astype('float')\n",
    "cp.horsepower  = cp.horsepower.astype('float')\n",
    "# we change the datatype cause data should be numeric and continuos "
   ]
  },
  {
   "cell_type": "code",
   "execution_count": 87,
   "id": "3e3f1d58",
   "metadata": {},
   "outputs": [
    {
     "name": "stdout",
     "output_type": "stream",
     "text": [
      "<class 'pandas.core.frame.DataFrame'>\n",
      "RangeIndex: 205 entries, 0 to 204\n",
      "Data columns (total 26 columns):\n",
      " #   Column             Non-Null Count  Dtype  \n",
      "---  ------             --------------  -----  \n",
      " 0   symboling          205 non-null    int64  \n",
      " 1   normalized_losses  164 non-null    float64\n",
      " 2   Fuel_type          205 non-null    object \n",
      " 3   make               205 non-null    object \n",
      " 4   num_of_doors       203 non-null    object \n",
      " 5   aspiration         205 non-null    object \n",
      " 6   wheel_base         205 non-null    object \n",
      " 7   engine_location    205 non-null    object \n",
      " 8   drive_wheels       205 non-null    float64\n",
      " 9   body_style         205 non-null    object \n",
      " 10  length             205 non-null    float64\n",
      " 11  width              205 non-null    float64\n",
      " 12  height             205 non-null    float64\n",
      " 13  curb_weight        205 non-null    int64  \n",
      " 14  engine_type        205 non-null    object \n",
      " 15  num_of_cylinders   205 non-null    object \n",
      " 16  engine_size        205 non-null    int64  \n",
      " 17  fuel_system        205 non-null    object \n",
      " 18  bore               201 non-null    float64\n",
      " 19  stroke             201 non-null    float64\n",
      " 20  compression_ratio  205 non-null    float64\n",
      " 21  horsepower         203 non-null    float64\n",
      " 22  peak_rpm           203 non-null    float64\n",
      " 23  city_mpg           205 non-null    int64  \n",
      " 24  highway_mpg        205 non-null    int64  \n",
      " 25  price              201 non-null    float64\n",
      "dtypes: float64(11), int64(5), object(10)\n",
      "memory usage: 41.8+ KB\n"
     ]
    }
   ],
   "source": [
    "cp.info()"
   ]
  },
  {
   "cell_type": "code",
   "execution_count": 88,
   "id": "32206cc2",
   "metadata": {},
   "outputs": [],
   "source": [
    "cp.normalized_losses  = cp.normalized_losses.fillna(cp.normalized_losses.mean())\n",
    "cp.bore   = cp.bore.fillna(cp.bore.mean())\n",
    "cp.stroke  =cp.stroke.fillna(cp.stroke.mean())\n",
    "cp.peak_rpm  =cp.peak_rpm.fillna(cp.peak_rpm.mean())\n",
    "cp.horsepower  =cp.horsepower.fillna(cp.horsepower.mean())\n",
    "cp.num_of_doors  =cp.num_of_doors.fillna('four')\n",
    "\n",
    "# fill the null values\n"
   ]
  },
  {
   "cell_type": "code",
   "execution_count": 89,
   "id": "49bc66ec",
   "metadata": {},
   "outputs": [
    {
     "data": {
      "text/plain": [
       "price    4\n",
       "dtype: int64"
      ]
     },
     "execution_count": 89,
     "metadata": {},
     "output_type": "execute_result"
    }
   ],
   "source": [
    "cp.isnull().sum()[cp.isnull().sum()> 0]"
   ]
  },
  {
   "cell_type": "code",
   "execution_count": 90,
   "id": "3d4ecab2",
   "metadata": {},
   "outputs": [],
   "source": [
    "cp.normalized_losses=cp.normalized_losses.astype('float')\n",
    "cp.normalized_losses=cp.normalized_losses.astype('float')\n",
    "cp.normalized_losses=cp.normalized_losses.astype('float')\n",
    "cp.normalized_losses=cp.normalized_losses.astype('float')\n",
    "cp.normalized_losses=cp.normalized_losses.astype('float')\n",
    "\n"
   ]
  },
  {
   "cell_type": "code",
   "execution_count": 91,
   "id": "b3a80fee",
   "metadata": {},
   "outputs": [],
   "source": [
    "cp=cp.dropna()"
   ]
  },
  {
   "cell_type": "code",
   "execution_count": 92,
   "id": "a77d9a37",
   "metadata": {},
   "outputs": [
    {
     "name": "stdout",
     "output_type": "stream",
     "text": [
      "<class 'pandas.core.frame.DataFrame'>\n",
      "Int64Index: 201 entries, 0 to 204\n",
      "Data columns (total 26 columns):\n",
      " #   Column             Non-Null Count  Dtype  \n",
      "---  ------             --------------  -----  \n",
      " 0   symboling          201 non-null    int64  \n",
      " 1   normalized_losses  201 non-null    float64\n",
      " 2   Fuel_type          201 non-null    object \n",
      " 3   make               201 non-null    object \n",
      " 4   num_of_doors       201 non-null    object \n",
      " 5   aspiration         201 non-null    object \n",
      " 6   wheel_base         201 non-null    object \n",
      " 7   engine_location    201 non-null    object \n",
      " 8   drive_wheels       201 non-null    float64\n",
      " 9   body_style         201 non-null    object \n",
      " 10  length             201 non-null    float64\n",
      " 11  width              201 non-null    float64\n",
      " 12  height             201 non-null    float64\n",
      " 13  curb_weight        201 non-null    int64  \n",
      " 14  engine_type        201 non-null    object \n",
      " 15  num_of_cylinders   201 non-null    object \n",
      " 16  engine_size        201 non-null    int64  \n",
      " 17  fuel_system        201 non-null    object \n",
      " 18  bore               201 non-null    float64\n",
      " 19  stroke             201 non-null    float64\n",
      " 20  compression_ratio  201 non-null    float64\n",
      " 21  horsepower         201 non-null    float64\n",
      " 22  peak_rpm           201 non-null    float64\n",
      " 23  city_mpg           201 non-null    int64  \n",
      " 24  highway_mpg        201 non-null    int64  \n",
      " 25  price              201 non-null    float64\n",
      "dtypes: float64(11), int64(5), object(10)\n",
      "memory usage: 42.4+ KB\n"
     ]
    }
   ],
   "source": [
    "cp.info()"
   ]
  },
  {
   "cell_type": "code",
   "execution_count": 93,
   "id": "d3393814",
   "metadata": {},
   "outputs": [],
   "source": [
    "from sklearn.preprocessing import LabelEncoder # import the Library"
   ]
  },
  {
   "cell_type": "code",
   "execution_count": 94,
   "id": "26349950",
   "metadata": {},
   "outputs": [],
   "source": [
    "le = LabelEncoder()"
   ]
  },
  {
   "cell_type": "code",
   "execution_count": 95,
   "id": "742e9a4a",
   "metadata": {},
   "outputs": [],
   "source": [
    "cp[cp.select_dtypes(include=['object']).columns] = cp[cp.select_dtypes(include=['object']).columns].apply(le.fit_transform)\n",
    "# convert non numeric-data to numeric"
   ]
  },
  {
   "cell_type": "code",
   "execution_count": 14,
   "id": "2e3d7b9a",
   "metadata": {},
   "outputs": [
    {
     "name": "stdout",
     "output_type": "stream",
     "text": [
      "<class 'pandas.core.frame.DataFrame'>\n",
      "Int64Index: 201 entries, 0 to 204\n",
      "Data columns (total 26 columns):\n",
      " #   Column             Non-Null Count  Dtype  \n",
      "---  ------             --------------  -----  \n",
      " 0   symboling          201 non-null    int64  \n",
      " 1   normalized_losses  201 non-null    float64\n",
      " 2   Fuel_type          201 non-null    int32  \n",
      " 3   make               201 non-null    int32  \n",
      " 4   num_of_doors       201 non-null    int32  \n",
      " 5   aspiration         201 non-null    int32  \n",
      " 6   wheel_base         201 non-null    int32  \n",
      " 7   engine_location    201 non-null    int32  \n",
      " 8   drive_wheels       201 non-null    float64\n",
      " 9   body_style         201 non-null    int32  \n",
      " 10  length             201 non-null    float64\n",
      " 11  width              201 non-null    float64\n",
      " 12  height             201 non-null    float64\n",
      " 13  curb_weight        201 non-null    int64  \n",
      " 14  engine_type        201 non-null    int32  \n",
      " 15  num_of_cylinders   201 non-null    int32  \n",
      " 16  engine_size        201 non-null    int64  \n",
      " 17  fuel_system        201 non-null    int32  \n",
      " 18  bore               201 non-null    float64\n",
      " 19  stroke             201 non-null    float64\n",
      " 20  compression_ratio  201 non-null    float64\n",
      " 21  horsepower         201 non-null    float64\n",
      " 22  peak_rpm           201 non-null    float64\n",
      " 23  city_mpg           201 non-null    int64  \n",
      " 24  highway_mpg        201 non-null    int64  \n",
      " 25  price              201 non-null    float64\n",
      "dtypes: float64(11), int32(10), int64(5)\n",
      "memory usage: 34.5 KB\n"
     ]
    }
   ],
   "source": [
    "cp.info()"
   ]
  },
  {
   "cell_type": "markdown",
   "id": "fefd1391",
   "metadata": {},
   "source": [
    "# sampling (random sampling)(80/20split)"
   ]
  },
  {
   "cell_type": "code",
   "execution_count": 15,
   "id": "4e01526e",
   "metadata": {},
   "outputs": [],
   "source": [
    "from sklearn.model_selection import train_test_split"
   ]
  },
  {
   "cell_type": "code",
   "execution_count": 16,
   "id": "74abcd24",
   "metadata": {},
   "outputs": [],
   "source": [
    "cp_train , cp_test = train_test_split(cp, test_size = .2)"
   ]
  },
  {
   "cell_type": "code",
   "execution_count": 17,
   "id": "5fd04f0c",
   "metadata": {},
   "outputs": [],
   "source": [
    "cp_train_x = cp_train.iloc[: , 0:-1]\n",
    "cp_train_y = cp_train.iloc[: , -1]"
   ]
  },
  {
   "cell_type": "code",
   "execution_count": 18,
   "id": "25752054",
   "metadata": {},
   "outputs": [],
   "source": [
    "cp_test_x = cp_test.iloc[: , 0:-1]\n",
    "cp_test_y = cp_test.iloc[: , -1]"
   ]
  },
  {
   "cell_type": "markdown",
   "id": "a7abcfd7",
   "metadata": {},
   "source": [
    "# model building"
   ]
  },
  {
   "cell_type": "code",
   "execution_count": 19,
   "id": "fa9b1d08",
   "metadata": {},
   "outputs": [],
   "source": [
    "from sklearn.linear_model import LinearRegression"
   ]
  },
  {
   "cell_type": "code",
   "execution_count": 20,
   "id": "08458605",
   "metadata": {},
   "outputs": [],
   "source": [
    "lenreg=LinearRegression()"
   ]
  },
  {
   "cell_type": "code",
   "execution_count": 21,
   "id": "399e1735",
   "metadata": {},
   "outputs": [
    {
     "data": {
      "text/plain": [
       "LinearRegression()"
      ]
     },
     "execution_count": 21,
     "metadata": {},
     "output_type": "execute_result"
    }
   ],
   "source": [
    "lenreg.fit(cp_train_x, cp_train_y)"
   ]
  },
  {
   "cell_type": "code",
   "execution_count": 22,
   "id": "b9167b94",
   "metadata": {},
   "outputs": [],
   "source": [
    "Rsquare=lenreg.score(cp_train_x, cp_train_y)"
   ]
  },
  {
   "cell_type": "code",
   "execution_count": 23,
   "id": "e716e18b",
   "metadata": {},
   "outputs": [
    {
     "data": {
      "text/plain": [
       "0.900011494275775"
      ]
     },
     "execution_count": 23,
     "metadata": {},
     "output_type": "execute_result"
    }
   ],
   "source": [
    "Rsquare"
   ]
  },
  {
   "cell_type": "code",
   "execution_count": 24,
   "id": "270b2f34",
   "metadata": {},
   "outputs": [],
   "source": [
    "N=cp_train_x.shape[0]\n",
    "K=cp_train_x.shape[1]"
   ]
  },
  {
   "cell_type": "code",
   "execution_count": 25,
   "id": "7a982fb3",
   "metadata": {},
   "outputs": [
    {
     "data": {
      "text/plain": [
       "0.8813569223123001"
      ]
     },
     "execution_count": 25,
     "metadata": {},
     "output_type": "execute_result"
    }
   ],
   "source": [
    "Adj_Rsquare = 1-(1-Rsquare)*(N-1)/(N-K-1)\n",
    "Adj_Rsquare"
   ]
  },
  {
   "cell_type": "code",
   "execution_count": 26,
   "id": "d26d023c",
   "metadata": {},
   "outputs": [
    {
     "data": {
      "text/plain": [
       "array([ 1.20052803e+02, -1.40998353e+01, -7.60700984e+03, -9.43674067e+01,\n",
       "       -7.50772942e+02, -8.86557225e+02,  1.39441794e+03,  9.60240704e+03,\n",
       "        5.76114948e+01, -2.16198464e+02, -3.25442948e+01,  7.05418134e+02,\n",
       "        2.75565034e+02,  3.02498513e+00,  3.63642618e+02,  1.81595816e+02,\n",
       "        9.30393772e+01,  1.16702302e+02, -2.05870245e+03, -2.70264595e+03,\n",
       "       -4.64223109e+02,  1.91775341e+01,  1.53318985e+00, -5.72128850e+01,\n",
       "        6.60736194e+01])"
      ]
     },
     "execution_count": 26,
     "metadata": {},
     "output_type": "execute_result"
    }
   ],
   "source": [
    "lenreg.coef_"
   ]
  },
  {
   "cell_type": "code",
   "execution_count": 27,
   "id": "126ed5c9",
   "metadata": {},
   "outputs": [
    {
     "data": {
      "text/plain": [
       "-47349.91244257327"
      ]
     },
     "execution_count": 27,
     "metadata": {},
     "output_type": "execute_result"
    }
   ],
   "source": [
    "lenreg.intercept_"
   ]
  },
  {
   "cell_type": "code",
   "execution_count": 28,
   "id": "0b5ee7dd",
   "metadata": {},
   "outputs": [],
   "source": [
    "pred_train = lenreg.predict(cp_train_x)\n",
    "pred_test = lenreg.predict(cp_test_x)"
   ]
  },
  {
   "cell_type": "code",
   "execution_count": 29,
   "id": "5a6f5fed",
   "metadata": {},
   "outputs": [],
   "source": [
    "err=cp_test_y-pred_test"
   ]
  },
  {
   "cell_type": "code",
   "execution_count": 30,
   "id": "e925fe88",
   "metadata": {},
   "outputs": [
    {
     "data": {
      "text/plain": [
       "56     1497.353595\n",
       "192    5272.647248\n",
       "115     365.246150\n",
       "102   -7206.035553\n",
       "180   -3570.769045\n",
       "140     819.424039\n",
       "1       -58.756993\n",
       "94     2101.979862\n",
       "62    -1603.513040\n",
       "193    2869.262623\n",
       "64    -1535.445042\n",
       "124   -3255.854691\n",
       "33    -2385.239064\n",
       "95     1822.940111\n",
       "21    -1588.568001\n",
       "187    1763.014945\n",
       "6     -3437.262711\n",
       "23    -2035.913252\n",
       "182     852.254121\n",
       "50    -1788.126325\n",
       "59    -2490.310742\n",
       "148     704.328906\n",
       "131     -43.278926\n",
       "159    -403.182880\n",
       "83     -716.605611\n",
       "142     579.956722\n",
       "78      361.834952\n",
       "86    -1536.040230\n",
       "84    -1111.730536\n",
       "196     382.006374\n",
       "152     121.600784\n",
       "2     -5166.132208\n",
       "136    4687.404680\n",
       "61     -740.310742\n",
       "100    -853.612476\n",
       "173    -340.531100\n",
       "128    2730.343429\n",
       "97     2760.151619\n",
       "163    3156.463388\n",
       "104   -4679.031547\n",
       "34    -1833.638826\n",
       "Name: price, dtype: float64"
      ]
     },
     "execution_count": 30,
     "metadata": {},
     "output_type": "execute_result"
    }
   ],
   "source": [
    "err"
   ]
  },
  {
   "cell_type": "code",
   "execution_count": 31,
   "id": "9731c9e4",
   "metadata": {},
   "outputs": [
    {
     "data": {
      "text/plain": [
       "6589782.543962227"
      ]
     },
     "execution_count": 31,
     "metadata": {},
     "output_type": "execute_result"
    }
   ],
   "source": [
    "mse = np.mean(np.square(err))\n",
    "mse"
   ]
  },
  {
   "cell_type": "code",
   "execution_count": 32,
   "id": "94b6c55d",
   "metadata": {},
   "outputs": [
    {
     "data": {
      "text/plain": [
       "2567.057175826481"
      ]
     },
     "execution_count": 32,
     "metadata": {},
     "output_type": "execute_result"
    }
   ],
   "source": [
    "rmse = np.sqrt(mse)\n",
    "rmse"
   ]
  },
  {
   "cell_type": "code",
   "execution_count": 33,
   "id": "5127cd3f",
   "metadata": {},
   "outputs": [
    {
     "data": {
      "text/plain": [
       "18.12151689846523"
      ]
     },
     "execution_count": 33,
     "metadata": {},
     "output_type": "execute_result"
    }
   ],
   "source": [
    "mape=np.mean(np.abs(err*100/cp_test_y))\n",
    "mape"
   ]
  },
  {
   "cell_type": "code",
   "execution_count": 34,
   "id": "4fe312f9",
   "metadata": {},
   "outputs": [],
   "source": [
    "err_train=cp_train_y-pred_train"
   ]
  },
  {
   "cell_type": "code",
   "execution_count": 35,
   "id": "d6c6cdf9",
   "metadata": {},
   "outputs": [
    {
     "data": {
      "text/plain": [
       "1.9099388737231494e-12"
      ]
     },
     "execution_count": 35,
     "metadata": {},
     "output_type": "execute_result"
    }
   ],
   "source": [
    "np.mean(err_train)# close to zero"
   ]
  },
  {
   "cell_type": "code",
   "execution_count": 36,
   "id": "0343010f",
   "metadata": {},
   "outputs": [],
   "source": [
    "import matplotlib.pyplot as plt"
   ]
  },
  {
   "cell_type": "code",
   "execution_count": 37,
   "id": "483a482b",
   "metadata": {},
   "outputs": [
    {
     "data": {
      "text/plain": [
       "[<matplotlib.lines.Line2D at 0x19765156d90>]"
      ]
     },
     "execution_count": 37,
     "metadata": {},
     "output_type": "execute_result"
    },
    {
     "data": {
      "image/png": "[encoded data removed]",
      "text/plain": [
       "<Figure size 432x288 with 1 Axes>"
      ]
     },
     "metadata": {
      "needs_background": "light"
     },
     "output_type": "display_data"
    }
   ],
   "source": [
    "plt.plot(err_train,\"*\")"
   ]
  },
  {
   "cell_type": "code",
   "execution_count": 38,
   "id": "d6a514e1",
   "metadata": {},
   "outputs": [
    {
     "data": {
      "text/plain": [
       "(array([ 2.,  1.,  2.,  3., 10., 24., 17., 28., 30., 21., 12.,  5.,  4.,\n",
       "         0.,  0.,  0.,  0.,  0.,  0.,  1.]),\n",
       " array([-8086.92634146, -7023.08438635, -5959.24243124, -4895.40047613,\n",
       "        -3831.55852102, -2767.71656591, -1703.8746108 ,  -640.03265569,\n",
       "          423.80929942,  1487.65125454,  2551.49320965,  3615.33516476,\n",
       "         4679.17711987,  5743.01907498,  6806.86103009,  7870.7029852 ,\n",
       "         8934.54494031,  9998.38689542, 11062.22885053, 12126.07080565,\n",
       "        13189.91276076]),\n",
       " <BarContainer object of 20 artists>)"
      ]
     },
     "execution_count": 38,
     "metadata": {},
     "output_type": "execute_result"
    },
    {
     "data": {
      "image/png": "[encoded data removed]",
      "text/plain": [
       "<Figure size 432x288 with 1 Axes>"
      ]
     },
     "metadata": {
      "needs_background": "light"
     },
     "output_type": "display_data"
    }
   ],
   "source": [
    "plt.hist(err_train, bins=20,edgecolor=\"b\")"
   ]
  },
  {
   "cell_type": "code",
   "execution_count": 39,
   "id": "20a62466",
   "metadata": {},
   "outputs": [],
   "source": [
    "import seaborn as sns"
   ]
  },
  {
   "cell_type": "code",
   "execution_count": 40,
   "id": "459e9fc2",
   "metadata": {},
   "outputs": [],
   "source": [
    "pred_actual_df= pd.DataFrame()\n",
    "pred_actual_df['Actual']=cp_train_y\n",
    "pred_actual_df['Predict']=pred_train"
   ]
  },
  {
   "cell_type": "code",
   "execution_count": 41,
   "id": "25b21385",
   "metadata": {},
   "outputs": [
    {
     "data": {
      "text/plain": [
       "<seaborn.axisgrid.JointGrid at 0x1976523a4f0>"
      ]
     },
     "execution_count": 41,
     "metadata": {},
     "output_type": "execute_result"
    },
    {
     "data": {
      "image/png": "[encoded data removed]",
      "text/plain": [
       "<Figure size 432x432 with 3 Axes>"
      ]
     },
     "metadata": {
      "needs_background": "light"
     },
     "output_type": "display_data"
    }
   ],
   "source": [
    "sns.jointplot(x='Actual',y='Predict',data=pred_actual_df,kind='reg')"
   ]
  },
  {
   "cell_type": "markdown",
   "id": "4edd5b26",
   "metadata": {},
   "source": [
    "# remove outliers & rerun the process from sampling"
   ]
  },
  {
   "cell_type": "code",
   "execution_count": 42,
   "id": "4aa075b2",
   "metadata": {},
   "outputs": [],
   "source": [
    "def remove_outliers(df, col, k):\n",
    "    mean= df[col].mean()\n",
    "    global df1\n",
    "    sd= df[col].std()\n",
    "    final_list=[x for x in df[col] if     (x > mean -k*sd)]\n",
    "    final_list= [x for x in final_list if (x < mean + k*sd)]\n",
    "    df1 =df.loc[df[col].isin(final_list)] ; print(df1.shape)\n",
    "    print('number of outliers removed ==>', df.shape[0]-df1.shape[0])"
   ]
  },
  {
   "cell_type": "code",
   "execution_count": 43,
   "id": "bd897a68",
   "metadata": {},
   "outputs": [
    {
     "name": "stdout",
     "output_type": "stream",
     "text": [
      "(187, 26)\n",
      "number of outliers removed ==> 14\n"
     ]
    }
   ],
   "source": [
    "remove_outliers(cp,'price',2)\n",
    "# their are 14 outlirs we need to remove it."
   ]
  },
  {
   "cell_type": "code",
   "execution_count": 44,
   "id": "1920f2fa",
   "metadata": {},
   "outputs": [],
   "source": [
    "cp=df1"
   ]
  },
  {
   "cell_type": "code",
   "execution_count": 45,
   "id": "71e8ea63",
   "metadata": {},
   "outputs": [],
   "source": [
    "from sklearn.model_selection import train_test_split"
   ]
  },
  {
   "cell_type": "code",
   "execution_count": 46,
   "id": "ed7b19f2",
   "metadata": {},
   "outputs": [],
   "source": [
    "cp_train , cp_test = train_test_split(cp, test_size = .2)"
   ]
  },
  {
   "cell_type": "code",
   "execution_count": 47,
   "id": "ba68640c",
   "metadata": {},
   "outputs": [],
   "source": [
    "cp_train_x = cp_train.iloc[: , 0:-1]\n",
    "cp_train_y = cp_train.iloc[: , -1]\n",
    "\n",
    "cp_test_x = cp_test.iloc[: , 0:-1]\n",
    "cp_test_y = cp_test.iloc[: , -1]"
   ]
  },
  {
   "cell_type": "code",
   "execution_count": 48,
   "id": "dacde40f",
   "metadata": {},
   "outputs": [],
   "source": [
    "from sklearn.linear_model import LinearRegression"
   ]
  },
  {
   "cell_type": "code",
   "execution_count": 49,
   "id": "85dffa8e",
   "metadata": {},
   "outputs": [],
   "source": [
    "lenreg=LinearRegression()"
   ]
  },
  {
   "cell_type": "code",
   "execution_count": 50,
   "id": "307d3ccc",
   "metadata": {},
   "outputs": [
    {
     "data": {
      "text/plain": [
       "LinearRegression()"
      ]
     },
     "execution_count": 50,
     "metadata": {},
     "output_type": "execute_result"
    }
   ],
   "source": [
    "lenreg.fit(cp_train_x, cp_train_y)"
   ]
  },
  {
   "cell_type": "code",
   "execution_count": 51,
   "id": "77366e05",
   "metadata": {},
   "outputs": [
    {
     "data": {
      "text/plain": [
       "0.8713994462017869"
      ]
     },
     "execution_count": 51,
     "metadata": {},
     "output_type": "execute_result"
    }
   ],
   "source": [
    "Rsquare=lenreg.score(cp_train_x, cp_train_y)\n",
    "Rsquare"
   ]
  },
  {
   "cell_type": "code",
   "execution_count": 52,
   "id": "c6c784d1",
   "metadata": {},
   "outputs": [],
   "source": [
    "N=cp_train_x.shape[0]\n",
    "K=cp_train_x.shape[1]"
   ]
  },
  {
   "cell_type": "code",
   "execution_count": 53,
   "id": "c6cae068",
   "metadata": {},
   "outputs": [
    {
     "data": {
      "text/plain": [
       "0.8452611222590607"
      ]
     },
     "execution_count": 53,
     "metadata": {},
     "output_type": "execute_result"
    }
   ],
   "source": [
    "Adj_Rsquare = 1-(1-Rsquare)*(N-1)/(N-K-1)\n",
    "Adj_Rsquare"
   ]
  },
  {
   "cell_type": "code",
   "execution_count": 54,
   "id": "99c2642c",
   "metadata": {},
   "outputs": [
    {
     "data": {
      "text/plain": [
       "array([-1.74705183e+02,  2.53610193e+00,  1.96676612e+04,  2.73507461e+03,\n",
       "       -3.46605559e+02, -4.53685679e+02,  1.03706744e+03, -1.23918653e-11,\n",
       "       -4.57289270e+01, -1.87485510e+02, -5.24775799e+01,  8.23606857e+02,\n",
       "        3.64624616e+02,  2.52846460e+00, -1.72711379e+02,  2.26504228e+02,\n",
       "        3.45725064e+01,  1.61664294e+02, -2.65241980e+02, -1.87421363e+03,\n",
       "        1.62748574e+03,  1.51880608e+01, -1.80560945e-01, -2.36771181e+02,\n",
       "        5.34491153e+01])"
      ]
     },
     "execution_count": 54,
     "metadata": {},
     "output_type": "execute_result"
    }
   ],
   "source": [
    "lenreg.coef_"
   ]
  },
  {
   "cell_type": "code",
   "execution_count": 55,
   "id": "7ab5e6de",
   "metadata": {},
   "outputs": [
    {
     "data": {
      "text/plain": [
       "-81238.7110098262"
      ]
     },
     "execution_count": 55,
     "metadata": {},
     "output_type": "execute_result"
    }
   ],
   "source": [
    "lenreg.intercept_"
   ]
  },
  {
   "cell_type": "code",
   "execution_count": 56,
   "id": "d5919278",
   "metadata": {},
   "outputs": [],
   "source": [
    "pred_train = lenreg.predict(cp_train_x)\n",
    "pred_test = lenreg.predict(cp_test_x)"
   ]
  },
  {
   "cell_type": "code",
   "execution_count": 57,
   "id": "2baa3891",
   "metadata": {},
   "outputs": [],
   "source": [
    "err=cp_test_y-pred_test"
   ]
  },
  {
   "cell_type": "code",
   "execution_count": 58,
   "id": "5c0c7ee2",
   "metadata": {},
   "outputs": [
    {
     "data": {
      "text/plain": [
       "4670583.112809012"
      ]
     },
     "execution_count": 58,
     "metadata": {},
     "output_type": "execute_result"
    }
   ],
   "source": [
    "mse = np.mean(np.square(err))\n",
    "mse"
   ]
  },
  {
   "cell_type": "code",
   "execution_count": 59,
   "id": "07205eac",
   "metadata": {},
   "outputs": [
    {
     "data": {
      "text/plain": [
       "2161.153190500158"
      ]
     },
     "execution_count": 59,
     "metadata": {},
     "output_type": "execute_result"
    }
   ],
   "source": [
    "rmse = np.sqrt(mse)\n",
    "rmse"
   ]
  },
  {
   "cell_type": "code",
   "execution_count": 60,
   "id": "f32b1631",
   "metadata": {},
   "outputs": [
    {
     "data": {
      "text/plain": [
       "15.585190962760677"
      ]
     },
     "execution_count": 60,
     "metadata": {},
     "output_type": "execute_result"
    }
   ],
   "source": [
    "mape=np.mean(np.abs(err*100/cp_test_y))\n",
    "mape"
   ]
  },
  {
   "cell_type": "code",
   "execution_count": 61,
   "id": "28286bf3",
   "metadata": {},
   "outputs": [],
   "source": [
    "err_train=cp_train_y-pred_train"
   ]
  },
  {
   "cell_type": "code",
   "execution_count": 62,
   "id": "b811624b",
   "metadata": {},
   "outputs": [
    {
     "data": {
      "text/plain": [
       "8.985075174562083e-12"
      ]
     },
     "execution_count": 62,
     "metadata": {},
     "output_type": "execute_result"
    }
   ],
   "source": [
    "np.mean(err_train)# close to zero"
   ]
  },
  {
   "cell_type": "code",
   "execution_count": 63,
   "id": "f654fb59",
   "metadata": {},
   "outputs": [
    {
     "data": {
      "text/plain": [
       "[<matplotlib.lines.Line2D at 0x19765b7f190>]"
      ]
     },
     "execution_count": 63,
     "metadata": {},
     "output_type": "execute_result"
    },
    {
     "data": {
      "image/png": "[encoded data removed]",
      "text/plain": [
       "<Figure size 432x288 with 1 Axes>"
      ]
     },
     "metadata": {
      "needs_background": "light"
     },
     "output_type": "display_data"
    }
   ],
   "source": [
    "plt.plot(err_train,\"*\")"
   ]
  },
  {
   "cell_type": "code",
   "execution_count": 64,
   "id": "48777987",
   "metadata": {},
   "outputs": [
    {
     "data": {
      "text/plain": [
       "(array([ 2.,  4.,  1.,  2.,  8.,  8., 10., 18., 17., 16., 12., 10., 15.,\n",
       "         7.,  4.,  6.,  2.,  5.,  1.,  1.]),\n",
       " array([-4492.48560464, -4022.51413601, -3552.54266738, -3082.57119875,\n",
       "        -2612.59973012, -2142.62826149, -1672.65679286, -1202.68532423,\n",
       "         -732.7138556 ,  -262.74238696,   207.22908167,   677.2005503 ,\n",
       "         1147.17201893,  1617.14348756,  2087.11495619,  2557.08642482,\n",
       "         3027.05789345,  3497.02936208,  3967.00083071,  4436.97229935,\n",
       "         4906.94376798]),\n",
       " <BarContainer object of 20 artists>)"
      ]
     },
     "execution_count": 64,
     "metadata": {},
     "output_type": "execute_result"
    },
    {
     "data": {
      "image/png": "[encoded data removed]",
      "text/plain": [
       "<Figure size 432x288 with 1 Axes>"
      ]
     },
     "metadata": {
      "needs_background": "light"
     },
     "output_type": "display_data"
    }
   ],
   "source": [
    "plt.hist(err_train, bins=20,edgecolor=\"b\")"
   ]
  },
  {
   "cell_type": "code",
   "execution_count": 65,
   "id": "2834d6c2",
   "metadata": {},
   "outputs": [],
   "source": [
    "pred_actual_df= pd.DataFrame()\n",
    "pred_actual_df['Actual1']=cp_train_y\n",
    "pred_actual_df['Predict1']=pred_train"
   ]
  },
  {
   "cell_type": "code",
   "execution_count": 66,
   "id": "0acbf14e",
   "metadata": {},
   "outputs": [
    {
     "data": {
      "text/plain": [
       "<seaborn.axisgrid.JointGrid at 0x19765c23e20>"
      ]
     },
     "execution_count": 66,
     "metadata": {},
     "output_type": "execute_result"
    },
    {
     "data": {
      "image/png": "[encoded data removed]",
      "text/plain": [
       "<Figure size 432x432 with 3 Axes>"
      ]
     },
     "metadata": {
      "needs_background": "light"
     },
     "output_type": "display_data"
    }
   ],
   "source": [
    "sns.jointplot(x='Actual1',y='Predict1',data=pred_actual_df,kind='reg')"
   ]
  },
  {
   "cell_type": "code",
   "execution_count": null,
   "id": "cc0de524",
   "metadata": {},
   "outputs": [],
   "source": [
    "comparing both the jointplot \n",
    "we see before removing the outliers there are sum values far from the regression line \n",
    "&  after removing the outliers all the  values near the regression line.\n",
    "errors is also decreses ."
   ]
  }
 ],
 "metadata": {
  "kernelspec": {
   "display_name": "Python 3 (ipykernel)",
   "language": "python",
   "name": "python3"
  },
  "language_info": {
   "codemirror_mode": {
    "name": "ipython",
    "version": 3
   },
   "file_extension": ".py",
   "mimetype": "text/x-python",
   "name": "python",
   "nbconvert_exporter": "python",
   "pygments_lexer": "ipython3",
   "version": "3.9.12"
  }
 },
 "nbformat": 4,
 "nbformat_minor": 5
}
